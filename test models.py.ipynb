{
 "cells": [
  {
   "cell_type": "code",
   "execution_count": 3,
   "metadata": {},
   "outputs": [],
   "source": [
    "from keras.models import load_model\n",
    "import cv2\n",
    "import numpy as np\n",
    "import os"
   ]
  },
  {
   "cell_type": "code",
   "execution_count": 34,
   "metadata": {},
   "outputs": [],
   "source": [
    "#load best performing CNN model\n",
    "model = load_model(r'C:\\Users\\Admin\\model-016.model')\n",
    "\n",
    "#Frontal Face detection classifier\n",
    "face_clsfr=cv2.CascadeClassifier(r'C:\\Users\\Admin\\python\\Lib\\site-packages\\cv2\\data\\haarcascade_frontalface_default.xml')\n",
    "\n",
    "#capture is webcam\n",
    "cap=cv2.VideoCapture(0)\n",
    "\n",
    "#set labels and colour for rectangle\n",
    "labels_dict={0:'without_mask',1:'with_mask'}\n",
    "color_dict={0:(255,0,0),1:(0,255,0)}"
   ]
  },
  {
   "cell_type": "code",
   "execution_count": 35,
   "metadata": {},
   "outputs": [],
   "source": [
    "while(True):\n",
    "    #read video stream from web cam\n",
    "    ret,img=cap.read()\n",
    "    \n",
    "    #convert into grayscale\n",
    "    gray=cv2.cvtColor(img,cv2.COLOR_BGR2GRAY)\n",
    "    \n",
    "    #run facial detections models and return X/y co-ords and weight/height of rectangle\n",
    "    faces=face_clsfr.detectMultiScale(gray,1.3,5)  \n",
    "\n",
    "    for (x,y,w,h) in faces:\n",
    "        \n",
    "        #performing pre-processing on face image(resize and normalise pixel range)\n",
    "        face_img=gray[y:y+w,x:x+w]\n",
    "        resized=cv2.resize(face_img,(100,100))\n",
    "        normalized=resized/255.0\n",
    "        reshaped=np.reshape(normalized,(1,100,100,1))\n",
    "        \n",
    "        # perform prediction\n",
    "        result=model.predict(reshaped)\n",
    "        #label is one of higher probability\n",
    "        label=np.argmax(result,axis=1)[0]\n",
    "        #draw rectangle around our image,choose colour,place label\n",
    "        cv2.rectangle(img,(x,y),(x+w,y+h),color_dict[label],2)\n",
    "        cv2.rectangle(img,(x,y-40),(x+w,y),color_dict[label],-1)\n",
    "        cv2.putText(img, labels_dict[label], (x, y-10),cv2.FONT_HERSHEY_SIMPLEX,0.8,(255,255,255),2)\n",
    "        \n",
    "        \n",
    "    cv2.imshow('LIVE',img)\n",
    "    # Stop if escape key is pressed  \n",
    "    key=cv2.waitKey(1) & 0xff\n",
    "    \n",
    "    if(key==27):\n",
    "        break\n",
    "        \n",
    "cap.release()\n",
    "cv2.destroyAllWindows()"
   ]
  },
  {
   "cell_type": "code",
   "execution_count": null,
   "metadata": {},
   "outputs": [],
   "source": []
  }
 ],
 "metadata": {
  "kernelspec": {
   "display_name": "Python 3",
   "language": "python",
   "name": "python3"
  },
  "language_info": {
   "codemirror_mode": {
    "name": "ipython",
    "version": 3
   },
   "file_extension": ".py",
   "mimetype": "text/x-python",
   "name": "python",
   "nbconvert_exporter": "python",
   "pygments_lexer": "ipython3",
   "version": "3.8.5"
  }
 },
 "nbformat": 4,
 "nbformat_minor": 4
}
